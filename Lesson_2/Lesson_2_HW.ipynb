{
 "cells": [
  {
   "cell_type": "markdown",
   "id": "e86dfa87",
   "metadata": {
    "toc": true
   },
   "source": [
    "<h1>Table of Contents<span class=\"tocSkip\"></span></h1>\n",
    "<div class=\"toc\"><ul class=\"toc-item\"><li><span><a href=\"#Сохранение-в-словарь-главных-новостей-с-lenta.ru\" data-toc-modified-id=\"Сохранение-в-словарь-главных-новостей-с-lenta.ru-1\"><span class=\"toc-item-num\">1&nbsp;&nbsp;</span>Сохранение в словарь главных новостей с lenta.ru</a></span></li></ul></div>"
   ]
  },
  {
   "cell_type": "markdown",
   "id": "5be8f486",
   "metadata": {},
   "source": [
    "### Сохранение в словарь главных новостей с lenta.ru"
   ]
  },
  {
   "cell_type": "code",
   "execution_count": 1,
   "id": "03381805",
   "metadata": {},
   "outputs": [],
   "source": [
    "import requests\n",
    "from lxml import html\n",
    "from pprint import pprint\n",
    "from datetime import datetime"
   ]
  },
  {
   "cell_type": "code",
   "execution_count": 2,
   "id": "ee02a62e",
   "metadata": {},
   "outputs": [],
   "source": [
    "base_url = 'https://lenta.ru/'"
   ]
  },
  {
   "cell_type": "code",
   "execution_count": 3,
   "id": "699c4fa4",
   "metadata": {},
   "outputs": [],
   "source": [
    "r = requests.get(base_url)"
   ]
  },
  {
   "cell_type": "code",
   "execution_count": 4,
   "id": "a0ea90ba",
   "metadata": {},
   "outputs": [],
   "source": [
    "root = html.fromstring(r.content.decode('utf-8'))"
   ]
  },
  {
   "cell_type": "code",
   "execution_count": 5,
   "id": "892f2156",
   "metadata": {},
   "outputs": [],
   "source": [
    "top_news = root.xpath(\"//a[@class='card-mini _topnews']\")"
   ]
  },
  {
   "cell_type": "code",
   "execution_count": 6,
   "id": "660c2fd6",
   "metadata": {},
   "outputs": [],
   "source": [
    "one_big_news = root.xpath(\"//a[@class='card-big _topnews _news']\")"
   ]
  },
  {
   "cell_type": "code",
   "execution_count": 7,
   "id": "34045ef4",
   "metadata": {},
   "outputs": [],
   "source": [
    "news_dict = dict()"
   ]
  },
  {
   "cell_type": "markdown",
   "id": "99283bc0",
   "metadata": {},
   "source": [
    "Есть заглавная новость с особыми классами и 12 других топовых новостей. Собираем их в словарь"
   ]
  },
  {
   "cell_type": "code",
   "execution_count": 8,
   "id": "44ae481f",
   "metadata": {},
   "outputs": [],
   "source": [
    "count = 1\n",
    "time = one_big_news[0].xpath(\"./div[@class='card-big__info']/time\")[0].text\n",
    "news_dict[count] = {\n",
    "    'source': 'lenta',\n",
    "    'title': one_big_news[0].xpath(\"./div/h3[@class='card-big__title']\")[0].text,\n",
    "    'link': base_url + one_big_news[0].xpath(\"./@href\")[0],\n",
    "    'datetime': f'{datetime.now().strftime(\"%d.%m.%Y\")} {time}'\n",
    "}\n",
    "count += 1\n",
    "\n",
    "for news in top_news:\n",
    "    title = news.xpath(\"./div/span[@class='card-mini__title']\")[0]\n",
    "    link = news.xpath(\"./@href\")[0]\n",
    "    news_time = news.xpath(\"./div/div[@class='card-mini__info']/time\")[0]\n",
    "    \n",
    "    news_dict[count] = {\n",
    "        'source': 'lenta',\n",
    "        'title': title.text,\n",
    "        'link': link if 'http' in link else base_url + link,\n",
    "        'datetime': f'{datetime.now().strftime(\"%d.%m.%Y\")} {news_time.text}'\n",
    "    }\n",
    "    count += 1"
   ]
  },
  {
   "cell_type": "code",
   "execution_count": 9,
   "id": "b777c878",
   "metadata": {},
   "outputs": [
    {
     "name": "stdout",
     "output_type": "stream",
     "text": [
      "{1: {'datetime': '08.02.2023 20:24',\n",
      "     'link': 'https://lenta.ru//news/2023/02/08/jets_problem/',\n",
      "     'source': 'lenta',\n",
      "     'title': 'Россия пригрозила Британии последствиями в случае поставок '\n",
      "              'истребителей Киеву'},\n",
      " 2: {'datetime': '08.02.2023 21:18',\n",
      "     'link': 'https://lenta.ru//news/2023/02/08/posol/',\n",
      "     'source': 'lenta',\n",
      "     'title': 'Посольство РФ прокомментировало обсуждение Лондоном передачи '\n",
      "              'истребителей ВСУ'},\n",
      " 3: {'datetime': '08.02.2023 21:08',\n",
      "     'link': 'https://lenta.ru//news/2023/02/08/chemical/',\n",
      "     'source': 'lenta',\n",
      "     'title': 'В ООН призвали передать ОЗХО имеющиеся данные о применении '\n",
      "              'Украиной химоружия'},\n",
      " 4: {'datetime': '08.02.2023 21:03',\n",
      "     'link': 'https://lenta.ru//news/2023/02/08/tchn/',\n",
      "     'source': 'lenta',\n",
      "     'title': '«Роснефть» подвела итоги внедрения собственных '\n",
      "              'импортозамещающих технологий'},\n",
      " 5: {'datetime': '08.02.2023 21:00',\n",
      "     'link': 'https://lenta.ru//news/2023/02/08/son/',\n",
      "     'source': 'lenta',\n",
      "     'title': 'Психиатр предупредил о пугающем последствии сна на спине'},\n",
      " 6: {'datetime': '08.02.2023 20:59',\n",
      "     'link': 'https://lenta.ru//news/2023/02/08/shohin/',\n",
      "     'source': 'lenta',\n",
      "     'title': 'Российский бизнес оценил идею добровольных взносов в бюджет'},\n",
      " 7: {'datetime': '08.02.2023 20:58',\n",
      "     'link': 'https://lenta.ru//news/2023/02/08/limpb/',\n",
      "     'source': 'lenta',\n",
      "     'title': 'Limp Bizkit выпустили клип с дипфейк-версиями Путина и Байдена'},\n",
      " 8: {'datetime': '08.02.2023 20:57',\n",
      "     'link': 'https://lenta.ru//news/2023/02/08/kto/',\n",
      "     'source': 'lenta',\n",
      "     'title': 'В Ставропольском крае ввели режим контртеррористической '\n",
      "              'операции'},\n",
      " 9: {'datetime': '08.02.2023 20:55',\n",
      "     'link': 'https://lenta.ru//news/2023/02/08/sunak_jetss/',\n",
      "     'source': 'lenta',\n",
      "     'title': 'Сунак обсудил с Зеленским возможность поставок истребителей '\n",
      "              'Украине'},\n",
      " 10: {'datetime': '08.02.2023 20:55',\n",
      "      'link': 'https://lenta.ru//news/2023/02/08/latvia_rights/',\n",
      "      'source': 'lenta',\n",
      "      'title': 'В ООН обвинили власти Латвии в нарушении прав человека'},\n",
      " 11: {'datetime': '08.02.2023 20:50',\n",
      "      'link': 'https://lenta.ru//news/2023/02/08/russianban/',\n",
      "      'source': 'lenta',\n",
      "      'title': 'В Великобритании выступили против участия россиян в '\n",
      "               'Олимпийских играх-2024'},\n",
      " 12: {'datetime': '08.02.2023 20:48',\n",
      "      'link': 'https://lenta.ru//news/2023/02/08/murder/',\n",
      "      'source': 'lenta',\n",
      "      'title': 'Мужчина зарезал двух девушек и попытался реанимировать одну из '\n",
      "               'них'},\n",
      " 13: {'datetime': '08.02.2023 20:45',\n",
      "      'link': 'https://lenta.ru//news/2023/02/08/uo_pot/',\n",
      "      'source': 'lenta',\n",
      "      'title': 'В ООН отказались подтверждать причастность США к взрывам на '\n",
      "               '«Северных потоках»'}}\n"
     ]
    }
   ],
   "source": [
    "pprint(news_dict)"
   ]
  },
  {
   "cell_type": "code",
   "execution_count": null,
   "id": "c8432722",
   "metadata": {},
   "outputs": [],
   "source": []
  }
 ],
 "metadata": {
  "kernelspec": {
   "display_name": "Python 3 (ipykernel)",
   "language": "python",
   "name": "python3"
  },
  "language_info": {
   "codemirror_mode": {
    "name": "ipython",
    "version": 3
   },
   "file_extension": ".py",
   "mimetype": "text/x-python",
   "name": "python",
   "nbconvert_exporter": "python",
   "pygments_lexer": "ipython3",
   "version": "3.9.7"
  },
  "toc": {
   "base_numbering": 1,
   "nav_menu": {},
   "number_sections": true,
   "sideBar": true,
   "skip_h1_title": true,
   "title_cell": "Table of Contents",
   "title_sidebar": "Contents",
   "toc_cell": true,
   "toc_position": {},
   "toc_section_display": true,
   "toc_window_display": false
  }
 },
 "nbformat": 4,
 "nbformat_minor": 5
}
