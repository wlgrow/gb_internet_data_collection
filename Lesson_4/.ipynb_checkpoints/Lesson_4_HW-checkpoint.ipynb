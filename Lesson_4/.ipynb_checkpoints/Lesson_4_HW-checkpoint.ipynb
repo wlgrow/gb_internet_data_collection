{
 "cells": [
  {
   "cell_type": "markdown",
   "id": "f5d90f5d",
   "metadata": {
    "toc": true
   },
   "source": [
    "<h1>Table of Contents<span class=\"tocSkip\"></span></h1>\n",
    "<div class=\"toc\"><ul class=\"toc-item\"><li><span><a href=\"#Задание-1\" data-toc-modified-id=\"Задание-1-1\"><span class=\"toc-item-num\">1&nbsp;&nbsp;</span>Задание 1</a></span><ul class=\"toc-item\"><li><span><a href=\"#Создание-клиента-и-базы-данных-mongodb\" data-toc-modified-id=\"Создание-клиента-и-базы-данных-mongodb-1.1\"><span class=\"toc-item-num\">1.1&nbsp;&nbsp;</span>Создание клиента и базы данных mongodb</a></span></li><li><span><a href=\"#Внесение-в-БД-вакансий,-добытых-с-сайта-неделю-назад\" data-toc-modified-id=\"Внесение-в-БД-вакансий,-добытых-с-сайта-неделю-назад-1.2\"><span class=\"toc-item-num\">1.2&nbsp;&nbsp;</span>Внесение в БД вакансий, добытых с сайта неделю назад</a></span></li><li><span><a href=\"#Парсинг-новых-вакансий-с-сайта\" data-toc-modified-id=\"Парсинг-новых-вакансий-с-сайта-1.3\"><span class=\"toc-item-num\">1.3&nbsp;&nbsp;</span>Парсинг новых вакансий с сайта</a></span></li><li><span><a href=\"#Запись-только-новых-вакансий-в-БД\" data-toc-modified-id=\"Запись-только-новых-вакансий-в-БД-1.4\"><span class=\"toc-item-num\">1.4&nbsp;&nbsp;</span>Запись только новых вакансий в БД</a></span></li></ul></li><li><span><a href=\"#Задание-2\" data-toc-modified-id=\"Задание-2-2\"><span class=\"toc-item-num\">2&nbsp;&nbsp;</span>Задание 2</a></span></li></ul></div>"
   ]
  },
  {
   "cell_type": "code",
   "execution_count": 2,
   "id": "3a82f639",
   "metadata": {},
   "outputs": [],
   "source": [
    "import requests\n",
    "from bs4 import BeautifulSoup as bs\n",
    "import re\n",
    "from pprint import pprint\n",
    "import pandas as pd"
   ]
  },
  {
   "cell_type": "code",
   "execution_count": 3,
   "id": "ce151e15",
   "metadata": {},
   "outputs": [],
   "source": [
    "from pymongo import MongoClient"
   ]
  },
  {
   "cell_type": "markdown",
   "id": "e4846220",
   "metadata": {},
   "source": [
    "### Задание 1\n",
    "Развернуть у себя на компьютере/виртуальной машине/хостинге MongoDB и реализовать функцию, которая будет добавлять только новые вакансии/продукты в вашу базу."
   ]
  },
  {
   "cell_type": "markdown",
   "id": "17c7ea2d",
   "metadata": {},
   "source": [
    "####  Создание клиента и базы данных mongodb"
   ]
  },
  {
   "cell_type": "code",
   "execution_count": 4,
   "id": "26ebefae",
   "metadata": {},
   "outputs": [],
   "source": [
    "client = MongoClient()"
   ]
  },
  {
   "cell_type": "code",
   "execution_count": 5,
   "id": "acc3c3be",
   "metadata": {},
   "outputs": [
    {
     "data": {
      "text/plain": [
       "MongoClient(host=['localhost:27017'], document_class=dict, tz_aware=False, connect=True)"
      ]
     },
     "execution_count": 5,
     "metadata": {},
     "output_type": "execute_result"
    }
   ],
   "source": [
    "client"
   ]
  },
  {
   "cell_type": "code",
   "execution_count": 6,
   "id": "7256f0ab",
   "metadata": {},
   "outputs": [],
   "source": [
    "db_vac = client.db_vacancies"
   ]
  },
  {
   "cell_type": "markdown",
   "id": "6453157c",
   "metadata": {},
   "source": [
    "#### Внесение в БД вакансий, добытых с сайта неделю назад"
   ]
  },
  {
   "cell_type": "code",
   "execution_count": 29,
   "id": "cc840774",
   "metadata": {},
   "outputs": [],
   "source": [
    "df_vac_old = pd.read_csv('vacancies.csv').drop(columns=['Unnamed: 0'])"
   ]
  },
  {
   "cell_type": "code",
   "execution_count": 30,
   "id": "1a9f71c5",
   "metadata": {},
   "outputs": [
    {
     "data": {
      "text/html": [
       "<div>\n",
       "<style scoped>\n",
       "    .dataframe tbody tr th:only-of-type {\n",
       "        vertical-align: middle;\n",
       "    }\n",
       "\n",
       "    .dataframe tbody tr th {\n",
       "        vertical-align: top;\n",
       "    }\n",
       "\n",
       "    .dataframe thead th {\n",
       "        text-align: right;\n",
       "    }\n",
       "</style>\n",
       "<table border=\"1\" class=\"dataframe\">\n",
       "  <thead>\n",
       "    <tr style=\"text-align: right;\">\n",
       "      <th></th>\n",
       "      <th>vacancy_name</th>\n",
       "      <th>vacancy_link</th>\n",
       "      <th>min_salary</th>\n",
       "      <th>max_salary</th>\n",
       "      <th>currency</th>\n",
       "    </tr>\n",
       "  </thead>\n",
       "  <tbody>\n",
       "    <tr>\n",
       "      <th>0</th>\n",
       "      <td>Data Scientist</td>\n",
       "      <td>https://kazan.hh.ru/vacancy/76925483?from=vaca...</td>\n",
       "      <td>160000</td>\n",
       "      <td>200000</td>\n",
       "      <td>руб.</td>\n",
       "    </tr>\n",
       "    <tr>\n",
       "      <th>1</th>\n",
       "      <td>Data scientist</td>\n",
       "      <td>https://kazan.hh.ru/vacancy/74376536?from=vaca...</td>\n",
       "      <td>200000</td>\n",
       "      <td>240000</td>\n",
       "      <td>руб.</td>\n",
       "    </tr>\n",
       "    <tr>\n",
       "      <th>2</th>\n",
       "      <td>Data Scientist (Middle+)</td>\n",
       "      <td>https://kazan.hh.ru/vacancy/76810036?from=vaca...</td>\n",
       "      <td>170000</td>\n",
       "      <td>240000</td>\n",
       "      <td>руб.</td>\n",
       "    </tr>\n",
       "  </tbody>\n",
       "</table>\n",
       "</div>"
      ],
      "text/plain": [
       "               vacancy_name  \\\n",
       "0            Data Scientist   \n",
       "1            Data scientist   \n",
       "2  Data Scientist (Middle+)   \n",
       "\n",
       "                                        vacancy_link  min_salary  max_salary  \\\n",
       "0  https://kazan.hh.ru/vacancy/76925483?from=vaca...      160000      200000   \n",
       "1  https://kazan.hh.ru/vacancy/74376536?from=vaca...      200000      240000   \n",
       "2  https://kazan.hh.ru/vacancy/76810036?from=vaca...      170000      240000   \n",
       "\n",
       "  currency  \n",
       "0     руб.  \n",
       "1     руб.  \n",
       "2     руб.  "
      ]
     },
     "execution_count": 30,
     "metadata": {},
     "output_type": "execute_result"
    }
   ],
   "source": [
    "df_vac_old.head(3)"
   ]
  },
  {
   "cell_type": "code",
   "execution_count": 31,
   "id": "7155e16c",
   "metadata": {},
   "outputs": [],
   "source": [
    "dict_of_vacancies_old = df_vac_old.to_dict('records')"
   ]
  },
  {
   "cell_type": "markdown",
   "id": "b4777951",
   "metadata": {},
   "source": [
    "Проверим, что каждая строка датафрейма переведена в словарь"
   ]
  },
  {
   "cell_type": "code",
   "execution_count": 34,
   "id": "24db06df",
   "metadata": {},
   "outputs": [
    {
     "data": {
      "text/plain": [
       "{'vacancy_name': 'Data Scientist',\n",
       " 'vacancy_link': 'https://kazan.hh.ru/vacancy/76925483?from=vacancy_search_list&query=data+scientist',\n",
       " 'min_salary': 160000,\n",
       " 'max_salary': 200000,\n",
       " 'currency': 'руб.'}"
      ]
     },
     "execution_count": 34,
     "metadata": {},
     "output_type": "execute_result"
    }
   ],
   "source": [
    "dict_of_vacancies_old[0]"
   ]
  },
  {
   "cell_type": "markdown",
   "id": "042ab802",
   "metadata": {},
   "source": [
    "Запишем данные в mongodb"
   ]
  },
  {
   "cell_type": "code",
   "execution_count": 35,
   "id": "ad89c33b",
   "metadata": {},
   "outputs": [],
   "source": [
    "for dict_v in dict_of_vacancies_old:\n",
    "    db_vac.vacancies.insert_one(dict_v)"
   ]
  },
  {
   "cell_type": "markdown",
   "id": "38fa0a45",
   "metadata": {},
   "source": [
    "Проверим, что данные записались корректно"
   ]
  },
  {
   "cell_type": "code",
   "execution_count": 37,
   "id": "2713a516",
   "metadata": {},
   "outputs": [
    {
     "name": "stdout",
     "output_type": "stream",
     "text": [
      "{'_id': ObjectId('63fbbf560d6af771395f2520'),\n",
      " 'currency': 'руб.',\n",
      " 'max_salary': 200000,\n",
      " 'min_salary': 160000,\n",
      " 'vacancy_link': 'https://kazan.hh.ru/vacancy/76925483?from=vacancy_search_list&query=data+scientist',\n",
      " 'vacancy_name': 'Data Scientist'}\n"
     ]
    }
   ],
   "source": [
    "pprint(db_vac.vacancies.find()[0])"
   ]
  },
  {
   "cell_type": "code",
   "execution_count": 39,
   "id": "b47218f1",
   "metadata": {},
   "outputs": [
    {
     "data": {
      "text/plain": [
       "166"
      ]
     },
     "execution_count": 39,
     "metadata": {},
     "output_type": "execute_result"
    }
   ],
   "source": [
    "len(list(db_vac.vacancies.find()))"
   ]
  },
  {
   "cell_type": "code",
   "execution_count": 40,
   "id": "ee807a98",
   "metadata": {},
   "outputs": [
    {
     "data": {
      "text/plain": [
       "166"
      ]
     },
     "execution_count": 40,
     "metadata": {},
     "output_type": "execute_result"
    }
   ],
   "source": [
    "df_vac_old.shape[0]"
   ]
  },
  {
   "cell_type": "markdown",
   "id": "8386ad6e",
   "metadata": {},
   "source": [
    "#### Парсинг новых вакансий с сайта"
   ]
  },
  {
   "cell_type": "code",
   "execution_count": 41,
   "id": "5803749b",
   "metadata": {},
   "outputs": [],
   "source": [
    "headers = {\n",
    "    'User-Agent': 'Mozilla/5.0 (Macintosh; Intel Mac OS X 10_14_6) AppleWebKit/537.36 (KHTML, like Gecko) Chrome/108.0.0.0 Safari/537.36'\n",
    "}\n",
    "\n",
    "url = 'https://kazan.hh.ru/search/vacancy?text=data+scientist&area='"
   ]
  },
  {
   "cell_type": "markdown",
   "id": "819b4c88",
   "metadata": {},
   "source": [
    "Находим число страниц в пагинации, то есть общее число страниц с результатами поиска"
   ]
  },
  {
   "cell_type": "code",
   "execution_count": 42,
   "id": "77204437",
   "metadata": {},
   "outputs": [],
   "source": [
    "response = requests.get(url, headers=headers)\n",
    "soup = bs(response.text, 'html.parser')\n",
    "max_page = int(soup.find_all('a', attrs={'class': ['bloko-button']})[-2].text)"
   ]
  },
  {
   "cell_type": "code",
   "execution_count": 43,
   "id": "b13968b2",
   "metadata": {},
   "outputs": [],
   "source": [
    "vacancies_list = []"
   ]
  },
  {
   "cell_type": "markdown",
   "id": "d2b54b82",
   "metadata": {},
   "source": [
    "Код парсера. Проходимся по всем страницам, считываем параметры вакансий и сохраняем все вакансии в виде списка словарей. Если зарплата представлена в виде 100 - 200 руб., то заполняется минимальная и максимальная зарплата. Если \"от 100 руб\", то заполняется минимальная зарплата. Если \"до 100 руб\", то заполняется максимальная зарплата."
   ]
  },
  {
   "cell_type": "code",
   "execution_count": 44,
   "id": "621eee06",
   "metadata": {},
   "outputs": [],
   "source": [
    "for page_num in range(max_page):\n",
    "    response = requests.get(f'https://kazan.hh.ru/search/vacancy?text=data+scientist&area=&page={page_num}', \n",
    "                            headers=headers)\n",
    "    soup = bs(response.text, 'html.parser')\n",
    "    \n",
    "    vacancies = soup.find_all('div', attrs={'class': ['vacancy-serp-item__layout']})\n",
    "    \n",
    "    for v in vacancies:\n",
    "        salary_min = 0\n",
    "        salary_max = 0\n",
    "        currency = ''\n",
    "        vacancy_name = v.find('a', attrs={'class': ['serp-item__title']})\n",
    "        v_name = vacancy_name.text\n",
    "        v_link = vacancy_name['href']\n",
    "\n",
    "        try:\n",
    "            salary = v.find('span', attrs={'data-qa': ['vacancy-serp__vacancy-compensation']})\n",
    "            s = re.match('[\\d – ]+', salary.text)\n",
    "            if s:\n",
    "                min_max = s.group().strip().replace(' ', '').replace(' ', '')\n",
    "                salary_min = int(min_max.split('–')[0])\n",
    "                salary_max = int(min_max.split('–')[1])\n",
    "            else:\n",
    "                g = re.findall('[\\d  ]+', salary.text)\n",
    "                if g:\n",
    "                    if 'до' in salary.text:\n",
    "                        salary_max = int(g[0].replace(' ', '').replace(' ', ''))\n",
    "                    elif 'от' in salary.text:\n",
    "                        salary_min = int(g[0].replace(' ', '').replace(' ', ''))\n",
    "\n",
    "\n",
    "            curr = re.findall('[А-яA-z]+\\.*$', salary.text)\n",
    "            if curr:\n",
    "                currency = curr[0]\n",
    "        except AttributeError:\n",
    "            pass\n",
    "\n",
    "        vacancies_list.append({\n",
    "            'vacancy_name': v_name,\n",
    "            'vacancy_link': v_link,\n",
    "            'min_salary': salary_min,\n",
    "            'max_salary': salary_max,\n",
    "            'currency': currency\n",
    "        })"
   ]
  },
  {
   "cell_type": "code",
   "execution_count": 45,
   "id": "ef10f980",
   "metadata": {},
   "outputs": [],
   "source": [
    "df = pd.DataFrame(vacancies_list)"
   ]
  },
  {
   "cell_type": "code",
   "execution_count": 46,
   "id": "b3e02012",
   "metadata": {},
   "outputs": [
    {
     "data": {
      "text/html": [
       "<div>\n",
       "<style scoped>\n",
       "    .dataframe tbody tr th:only-of-type {\n",
       "        vertical-align: middle;\n",
       "    }\n",
       "\n",
       "    .dataframe tbody tr th {\n",
       "        vertical-align: top;\n",
       "    }\n",
       "\n",
       "    .dataframe thead th {\n",
       "        text-align: right;\n",
       "    }\n",
       "</style>\n",
       "<table border=\"1\" class=\"dataframe\">\n",
       "  <thead>\n",
       "    <tr style=\"text-align: right;\">\n",
       "      <th></th>\n",
       "      <th>vacancy_name</th>\n",
       "      <th>vacancy_link</th>\n",
       "      <th>min_salary</th>\n",
       "      <th>max_salary</th>\n",
       "      <th>currency</th>\n",
       "    </tr>\n",
       "  </thead>\n",
       "  <tbody>\n",
       "    <tr>\n",
       "      <th>0</th>\n",
       "      <td>Специалист по углубленной аналитике данных (Da...</td>\n",
       "      <td>https://kazan.hh.ru/vacancy/72920605?from=vaca...</td>\n",
       "      <td>0</td>\n",
       "      <td>0</td>\n",
       "      <td></td>\n",
       "    </tr>\n",
       "    <tr>\n",
       "      <th>1</th>\n",
       "      <td>Data scientist</td>\n",
       "      <td>https://kazan.hh.ru/vacancy/74376536?from=vaca...</td>\n",
       "      <td>200000</td>\n",
       "      <td>240000</td>\n",
       "      <td>руб.</td>\n",
       "    </tr>\n",
       "    <tr>\n",
       "      <th>2</th>\n",
       "      <td>Data Scientist</td>\n",
       "      <td>https://kazan.hh.ru/vacancy/76925483?from=vaca...</td>\n",
       "      <td>160000</td>\n",
       "      <td>200000</td>\n",
       "      <td>руб.</td>\n",
       "    </tr>\n",
       "    <tr>\n",
       "      <th>3</th>\n",
       "      <td>Data Scientist (удаленно)</td>\n",
       "      <td>https://kazan.hh.ru/vacancy/76655873?from=vaca...</td>\n",
       "      <td>0</td>\n",
       "      <td>0</td>\n",
       "      <td></td>\n",
       "    </tr>\n",
       "    <tr>\n",
       "      <th>4</th>\n",
       "      <td>Data scientist</td>\n",
       "      <td>https://kazan.hh.ru/vacancy/74257661?from=vaca...</td>\n",
       "      <td>150000</td>\n",
       "      <td>300000</td>\n",
       "      <td>руб.</td>\n",
       "    </tr>\n",
       "    <tr>\n",
       "      <th>...</th>\n",
       "      <td>...</td>\n",
       "      <td>...</td>\n",
       "      <td>...</td>\n",
       "      <td>...</td>\n",
       "      <td>...</td>\n",
       "    </tr>\n",
       "    <tr>\n",
       "      <th>142</th>\n",
       "      <td>Senior Data Scientist (WAF)</td>\n",
       "      <td>https://kazan.hh.ru/vacancy/74252169?from=vaca...</td>\n",
       "      <td>0</td>\n",
       "      <td>0</td>\n",
       "      <td></td>\n",
       "    </tr>\n",
       "    <tr>\n",
       "      <th>143</th>\n",
       "      <td>Team Lead Fraud Analyst</td>\n",
       "      <td>https://kazan.hh.ru/vacancy/77284065?from=vaca...</td>\n",
       "      <td>0</td>\n",
       "      <td>0</td>\n",
       "      <td></td>\n",
       "    </tr>\n",
       "    <tr>\n",
       "      <th>144</th>\n",
       "      <td>Team Lead Fraud Analyst</td>\n",
       "      <td>https://kazan.hh.ru/vacancy/73527795?from=vaca...</td>\n",
       "      <td>0</td>\n",
       "      <td>0</td>\n",
       "      <td></td>\n",
       "    </tr>\n",
       "    <tr>\n",
       "      <th>145</th>\n",
       "      <td>Team Lead Fraud Analyst</td>\n",
       "      <td>https://kazan.hh.ru/vacancy/75641735?from=vaca...</td>\n",
       "      <td>0</td>\n",
       "      <td>0</td>\n",
       "      <td></td>\n",
       "    </tr>\n",
       "    <tr>\n",
       "      <th>146</th>\n",
       "      <td>Team Lead Fraud Analyst</td>\n",
       "      <td>https://kazan.hh.ru/vacancy/75641763?from=vaca...</td>\n",
       "      <td>0</td>\n",
       "      <td>0</td>\n",
       "      <td></td>\n",
       "    </tr>\n",
       "  </tbody>\n",
       "</table>\n",
       "<p>147 rows × 5 columns</p>\n",
       "</div>"
      ],
      "text/plain": [
       "                                          vacancy_name  \\\n",
       "0    Специалист по углубленной аналитике данных (Da...   \n",
       "1                                       Data scientist   \n",
       "2                                       Data Scientist   \n",
       "3                            Data Scientist (удаленно)   \n",
       "4                                       Data scientist   \n",
       "..                                                 ...   \n",
       "142                        Senior Data Scientist (WAF)   \n",
       "143                            Team Lead Fraud Analyst   \n",
       "144                            Team Lead Fraud Analyst   \n",
       "145                            Team Lead Fraud Analyst   \n",
       "146                            Team Lead Fraud Analyst   \n",
       "\n",
       "                                          vacancy_link  min_salary  \\\n",
       "0    https://kazan.hh.ru/vacancy/72920605?from=vaca...           0   \n",
       "1    https://kazan.hh.ru/vacancy/74376536?from=vaca...      200000   \n",
       "2    https://kazan.hh.ru/vacancy/76925483?from=vaca...      160000   \n",
       "3    https://kazan.hh.ru/vacancy/76655873?from=vaca...           0   \n",
       "4    https://kazan.hh.ru/vacancy/74257661?from=vaca...      150000   \n",
       "..                                                 ...         ...   \n",
       "142  https://kazan.hh.ru/vacancy/74252169?from=vaca...           0   \n",
       "143  https://kazan.hh.ru/vacancy/77284065?from=vaca...           0   \n",
       "144  https://kazan.hh.ru/vacancy/73527795?from=vaca...           0   \n",
       "145  https://kazan.hh.ru/vacancy/75641735?from=vaca...           0   \n",
       "146  https://kazan.hh.ru/vacancy/75641763?from=vaca...           0   \n",
       "\n",
       "     max_salary currency  \n",
       "0             0           \n",
       "1        240000     руб.  \n",
       "2        200000     руб.  \n",
       "3             0           \n",
       "4        300000     руб.  \n",
       "..          ...      ...  \n",
       "142           0           \n",
       "143           0           \n",
       "144           0           \n",
       "145           0           \n",
       "146           0           \n",
       "\n",
       "[147 rows x 5 columns]"
      ]
     },
     "execution_count": 46,
     "metadata": {},
     "output_type": "execute_result"
    }
   ],
   "source": [
    "df"
   ]
  },
  {
   "cell_type": "code",
   "execution_count": 47,
   "id": "f24bb722",
   "metadata": {},
   "outputs": [],
   "source": [
    "# df.to_csv('vacancies.csv')"
   ]
  },
  {
   "cell_type": "markdown",
   "id": "0ef8c3e5",
   "metadata": {},
   "source": [
    "#### Запись только новых вакансий в БД"
   ]
  },
  {
   "cell_type": "code",
   "execution_count": 54,
   "id": "3c50baa4",
   "metadata": {},
   "outputs": [],
   "source": [
    "dict_of_vacancies_new = df.to_dict('records')    "
   ]
  },
  {
   "cell_type": "markdown",
   "id": "eca151a3",
   "metadata": {},
   "source": [
    "Посчитаем дубли (вакансии, которые уже есть в БД)"
   ]
  },
  {
   "cell_type": "code",
   "execution_count": 69,
   "id": "07cfefa4",
   "metadata": {},
   "outputs": [
    {
     "name": "stdout",
     "output_type": "stream",
     "text": [
      "53\n"
     ]
    }
   ],
   "source": [
    "i = 0\n",
    "for vac in dict_of_vacancies_new:\n",
    "    if len(list(db_vac.vacancies.find({'vacancy_link': vac['vacancy_link']}))) > 0:\n",
    "        i += 1\n",
    "print(i)    "
   ]
  },
  {
   "cell_type": "markdown",
   "id": "4bd00e2f",
   "metadata": {},
   "source": [
    "Запишем в БД только новые вакансии"
   ]
  },
  {
   "cell_type": "code",
   "execution_count": 70,
   "id": "988b9d0f",
   "metadata": {},
   "outputs": [],
   "source": [
    "for vac in dict_of_vacancies_new:\n",
    "    db_vac.vacancies.find_one_and_update(\n",
    "        {'vacancy_link': vac['vacancy_link']},\n",
    "        {'$set': vac}, upsert=True\n",
    "    )"
   ]
  },
  {
   "cell_type": "code",
   "execution_count": 71,
   "id": "1592ee88",
   "metadata": {},
   "outputs": [
    {
     "data": {
      "text/plain": [
       "260"
      ]
     },
     "execution_count": 71,
     "metadata": {},
     "output_type": "execute_result"
    }
   ],
   "source": [
    "len(list(db_vac.vacancies.find()))"
   ]
  },
  {
   "cell_type": "markdown",
   "id": "332b606f",
   "metadata": {},
   "source": [
    "Проверка: 166 (старые вакансии) + 147 (новые вакансии) - 53 (дубли) = 260"
   ]
  },
  {
   "cell_type": "markdown",
   "id": "30586dc7",
   "metadata": {},
   "source": [
    "### Задание 2\n",
    "Написать функцию, которая производит поиск и выводит на экран вакансии с заработной платой больше введённой суммы (необходимо анализировать оба поля зарплаты)"
   ]
  },
  {
   "cell_type": "code",
   "execution_count": 72,
   "id": "96d56b95",
   "metadata": {},
   "outputs": [],
   "source": [
    "def find_salary(salary):\n",
    "    vacs = db_vac.vacancies.find({\n",
    "            '$or': [\n",
    "                {\n",
    "                    'min_salary': {\n",
    "                        '$gt': salary\n",
    "                    }\n",
    "                },\n",
    "                {\n",
    "                    'max_salary': {\n",
    "                        '$gt': salary\n",
    "                    }\n",
    "                }\n",
    "            ]\n",
    "        }\n",
    "        )\n",
    "    for v in vacs:\n",
    "        pprint(v)"
   ]
  },
  {
   "cell_type": "markdown",
   "id": "5465a53c",
   "metadata": {},
   "source": [
    "Выведем вакансии с зп больше 200 тыс. руб."
   ]
  },
  {
   "cell_type": "code",
   "execution_count": 77,
   "id": "8d8d12a8",
   "metadata": {},
   "outputs": [
    {
     "name": "stdout",
     "output_type": "stream",
     "text": [
      "{'_id': ObjectId('63fbbf560d6af771395f2524'),\n",
      " 'currency': 'руб.',\n",
      " 'max_salary': 350000,\n",
      " 'min_salary': 250000,\n",
      " 'vacancy_link': 'https://kazan.hh.ru/vacancy/77208642?from=vacancy_search_list&query=data+scientist',\n",
      " 'vacancy_name': 'Data Scientist middle+/Senior'}\n",
      "{'_id': ObjectId('63fbbf560d6af771395f252d'),\n",
      " 'currency': 'руб.',\n",
      " 'max_salary': 350000,\n",
      " 'min_salary': 0,\n",
      " 'vacancy_link': 'https://kazan.hh.ru/vacancy/73387970?from=vacancy_search_list&query=data+scientist',\n",
      " 'vacancy_name': 'Senior Data Scientist'}\n",
      "{'_id': ObjectId('63fbbf560d6af771395f255e'),\n",
      " 'currency': 'руб.',\n",
      " 'max_salary': 400000,\n",
      " 'min_salary': 250000,\n",
      " 'vacancy_link': 'https://kazan.hh.ru/vacancy/73139848?from=vacancy_search_list&query=data+scientist',\n",
      " 'vacancy_name': 'Data scientist/Analyst (Middle+/Senior) - Руководитель '\n",
      "                 'отдела аналитики'}\n",
      "{'_id': ObjectId('63fbbf560d6af771395f25b8'),\n",
      " 'currency': 'руб.',\n",
      " 'max_salary': 350000,\n",
      " 'min_salary': 250000,\n",
      " 'vacancy_link': 'https://kazan.hh.ru/vacancy/76796572?from=vacancy_search_list&query=data+scientist',\n",
      " 'vacancy_name': 'Senior/Middle Java Developer'}\n",
      "{'_id': ObjectId('63fbc6abff7d37b2ec5be975'),\n",
      " 'currency': 'руб.',\n",
      " 'max_salary': 400000,\n",
      " 'min_salary': 0,\n",
      " 'vacancy_link': 'https://kazan.hh.ru/vacancy/70163749?from=vacancy_search_list&query=data+scientist',\n",
      " 'vacancy_name': 'Data Scientist (middle/senior)'}\n",
      "{'_id': ObjectId('63fbc6acff7d37b2ec5be9cb'),\n",
      " 'currency': 'руб.',\n",
      " 'max_salary': 350000,\n",
      " 'min_salary': 300000,\n",
      " 'vacancy_link': 'https://kazan.hh.ru/vacancy/76815796?from=vacancy_search_list&query=data+scientist',\n",
      " 'vacancy_name': 'Lead data scientist'}\n",
      "{'_id': ObjectId('63fbc6acff7d37b2ec5bea3f'),\n",
      " 'currency': 'руб.',\n",
      " 'max_salary': 0,\n",
      " 'min_salary': 400000,\n",
      " 'vacancy_link': 'https://kazan.hh.ru/vacancy/76693747?from=vacancy_search_list&query=data+scientist',\n",
      " 'vacancy_name': 'Руководитель направления по данным'}\n"
     ]
    }
   ],
   "source": [
    "find_salary(300000)"
   ]
  },
  {
   "cell_type": "code",
   "execution_count": null,
   "id": "b9fd283b",
   "metadata": {},
   "outputs": [],
   "source": []
  }
 ],
 "metadata": {
  "kernelspec": {
   "display_name": "Python 3 (ipykernel)",
   "language": "python",
   "name": "python3"
  },
  "language_info": {
   "codemirror_mode": {
    "name": "ipython",
    "version": 3
   },
   "file_extension": ".py",
   "mimetype": "text/x-python",
   "name": "python",
   "nbconvert_exporter": "python",
   "pygments_lexer": "ipython3",
   "version": "3.9.7"
  },
  "toc": {
   "base_numbering": 1,
   "nav_menu": {},
   "number_sections": true,
   "sideBar": true,
   "skip_h1_title": true,
   "title_cell": "Table of Contents",
   "title_sidebar": "Contents",
   "toc_cell": true,
   "toc_position": {},
   "toc_section_display": true,
   "toc_window_display": false
  }
 },
 "nbformat": 4,
 "nbformat_minor": 5
}
