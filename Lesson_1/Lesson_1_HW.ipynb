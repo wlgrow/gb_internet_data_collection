{
 "cells": [
  {
   "cell_type": "markdown",
   "id": "faaceacd",
   "metadata": {
    "toc": true
   },
   "source": [
    "<h1>Table of Contents<span class=\"tocSkip\"></span></h1>\n",
    "<div class=\"toc\"><ul class=\"toc-item\"><li><span><a href=\"#Task-1\" data-toc-modified-id=\"Task-1-1\"><span class=\"toc-item-num\">1&nbsp;&nbsp;</span>Task 1</a></span></li><li><span><a href=\"#Task-2\" data-toc-modified-id=\"Task-2-2\"><span class=\"toc-item-num\">2&nbsp;&nbsp;</span>Task 2</a></span></li></ul></div>"
   ]
  },
  {
   "cell_type": "markdown",
   "id": "632bb651",
   "metadata": {},
   "source": [
    "### Task 1"
   ]
  },
  {
   "cell_type": "code",
   "execution_count": 46,
   "id": "b4dd253b",
   "metadata": {},
   "outputs": [],
   "source": [
    "import requests\n",
    "import json\n",
    "from pprint import pprint"
   ]
  },
  {
   "cell_type": "code",
   "execution_count": 47,
   "id": "64546035",
   "metadata": {},
   "outputs": [
    {
     "name": "stdout",
     "output_type": "stream",
     "text": [
      "Список репозиториев пользователя Vectorized: \n",
      "\n",
      "arcana-foundry-erc721a\n",
      "Aris\n",
      "Aux-Bytes-Example\n",
      "awesome-docsify\n",
      "CECSATSolver\n",
      "clones-with-immutable-args\n",
      "closedsea\n",
      "create2crunch\n",
      "ERC721A\n",
      "ERC721A-Docs\n",
      "ERC721A-Improved\n",
      "ERC721A-Transpiler\n",
      "ERC721A-Upgradeable\n",
      "ERC721A-Upgradeable-Old\n",
      "Fluidsim\n",
      "forge-std\n",
      "landscape\n",
      "morpho-utils\n",
      "NFTStaker\n",
      "op-club-sqrt\n",
      "openzeppelin-contracts\n",
      "Othello-AI\n",
      "preapprove\n",
      "Python-Attribute-List\n",
      "Python-KD-Tree\n",
      "QDES\n",
      "seaport\n",
      "Softee\n",
      "solady\n",
      "Solidity-Code-Reviews\n"
     ]
    }
   ],
   "source": [
    "github_username = \"Vectorized\"\n",
    "api_url = f\"https://api.github.com/users/{github_username}/repos\"\n",
    "response = requests.get(api_url)\n",
    "\n",
    "data = response.json()\n",
    "# pprint(data)\n",
    "print(f'Список репозиториев пользователя {github_username}:', '\\n')\n",
    "for repo in data:\n",
    "    print(repo['name'])\n",
    "\n",
    "with open('task_1.json', 'w') as f:\n",
    "    json.dump(data, f)"
   ]
  },
  {
   "cell_type": "markdown",
   "id": "c05501da",
   "metadata": {},
   "source": [
    "### Task 2"
   ]
  },
  {
   "cell_type": "markdown",
   "id": "62262478",
   "metadata": {},
   "source": [
    "Во время запусков я использовал реальный токен, для заливки на гит я его удалил"
   ]
  },
  {
   "cell_type": "code",
   "execution_count": 52,
   "id": "f4cc92dc",
   "metadata": {},
   "outputs": [],
   "source": [
    "token = 'github_pat_XXX'"
   ]
  },
  {
   "cell_type": "code",
   "execution_count": 49,
   "id": "bf856b68",
   "metadata": {},
   "outputs": [],
   "source": [
    "username = 'wlgrow'\n",
    "repo = 'krak'"
   ]
  },
  {
   "cell_type": "markdown",
   "id": "0b57554a",
   "metadata": {},
   "source": [
    "Запуск с неверным токеном (специально исказил токен, чтобы вызвать ошибку)"
   ]
  },
  {
   "cell_type": "code",
   "execution_count": 50,
   "id": "89f3c418",
   "metadata": {},
   "outputs": [
    {
     "name": "stdout",
     "output_type": "stream",
     "text": [
      "<Response [401]>\n",
      "<Response [401]>\n"
     ]
    }
   ],
   "source": [
    "session = requests.session()\n",
    "session.headers = {\"Authorization\": f\"token {token}\"}\n",
    "\n",
    "base_api_endpoint = \"https://api.github.com/user\"\n",
    "\n",
    "response = session.get(base_api_endpoint)\n",
    "print(response)\n",
    "\n",
    "response = session.get(base_api_endpoint + '/repos')\n",
    "print(response)"
   ]
  },
  {
   "cell_type": "markdown",
   "id": "8a4f837a",
   "metadata": {},
   "source": [
    "Авторизация с моим токеном"
   ]
  },
  {
   "cell_type": "code",
   "execution_count": 53,
   "id": "382b72a1",
   "metadata": {},
   "outputs": [
    {
     "name": "stdout",
     "output_type": "stream",
     "text": [
      "<Response [200]>\n",
      "<Response [200]>\n",
      "<Response [200]>\n",
      "[{'commit': {'sha': '54d2225d9df874615f8acf577b99958a9ec7d3e8',\n",
      "             'url': 'https://api.github.com/repos/wlgrow/krak/commits/54d2225d9df874615f8acf577b99958a9ec7d3e8'},\n",
      "  'name': 'dev',\n",
      "  'protected': False},\n",
      " {'commit': {'sha': '54d2225d9df874615f8acf577b99958a9ec7d3e8',\n",
      "             'url': 'https://api.github.com/repos/wlgrow/krak/commits/54d2225d9df874615f8acf577b99958a9ec7d3e8'},\n",
      "  'name': 'master',\n",
      "  'protected': False}]\n"
     ]
    }
   ],
   "source": [
    "session = requests.session()\n",
    "session.headers = {\"Authorization\": f\"token {token}\"}\n",
    "\n",
    "base_api_endpoint = \"https://api.github.com\"\n",
    "\n",
    "response = session.get(base_api_endpoint + '/user')\n",
    "print(response)\n",
    "\n",
    "response = session.get(base_api_endpoint + '/user/repos')\n",
    "print(response)\n",
    "\n",
    "response = session.get(base_api_endpoint + f'/repos/{username}/{repo}/branches')\n",
    "print(response)\n",
    "\n",
    "pprint(response.json())\n",
    "with open('task_2.json', 'w') as f:\n",
    "    json.dump(data, f)"
   ]
  },
  {
   "cell_type": "code",
   "execution_count": null,
   "id": "33b96222",
   "metadata": {},
   "outputs": [],
   "source": []
  }
 ],
 "metadata": {
  "kernelspec": {
   "display_name": "Python 3 (ipykernel)",
   "language": "python",
   "name": "python3"
  },
  "language_info": {
   "codemirror_mode": {
    "name": "ipython",
    "version": 3
   },
   "file_extension": ".py",
   "mimetype": "text/x-python",
   "name": "python",
   "nbconvert_exporter": "python",
   "pygments_lexer": "ipython3",
   "version": "3.9.7"
  },
  "toc": {
   "base_numbering": 1,
   "nav_menu": {},
   "number_sections": true,
   "sideBar": true,
   "skip_h1_title": true,
   "title_cell": "Table of Contents",
   "title_sidebar": "Contents",
   "toc_cell": true,
   "toc_position": {},
   "toc_section_display": true,
   "toc_window_display": false
  }
 },
 "nbformat": 4,
 "nbformat_minor": 5
}
